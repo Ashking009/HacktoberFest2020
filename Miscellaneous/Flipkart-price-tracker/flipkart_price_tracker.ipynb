{
 "cells": [
  {
   "cell_type": "code",
   "execution_count": null,
   "metadata": {},
   "outputs": [],
   "source": [
    "from os.path import exists\n",
    "from os import makedirs, chdir\n",
    "from selenium import webdriver\n",
    "import time\n",
    "import numpy as np\n",
    "from getpass import getuser\n",
    "from win10toast import ToastNotifier as toast"
   ]
  },
  {
   "cell_type": "code",
   "execution_count": null,
   "metadata": {},
   "outputs": [],
   "source": [
    "track={}\n",
    "if not exists(\"C://Users/\"+str(getuser())+\"/Documents/price_tracker/\"):\n",
    "    chdir(\"C://Users/\"+str(getuser())+\"/Documents/\")\n",
    "    makedirs(\"price_tracker\")\n",
    "    track = {}\n",
    "    np.save('data.npy',track)\n",
    "else:\n",
    "    chdir(\"C://Users/\"+str(getuser())+\"/Documents/price_tracker/\")\n",
    "    \n",
    "\n",
    "def execute(website,interval):\n",
    "    chrome_options = webdriver.ChromeOptions()\n",
    "    n = toast()\n",
    "    chrome_options.add_argument('--headless')\n",
    "    browser = webdriver.Chrome('F://chromedriver_win32/chromedriver.exe',chrome_options=chrome_options)\n",
    "    browser.get(website)\n",
    "    \n",
    "\n",
    "\n",
    "        \n",
    "    print('Please wait while the website loads')\n",
    "    time.sleep(1) #time to allow the website to load\n",
    "    #price = browser.find_element_by_xpath('//*[@id=\"container\"]/div/div[3]/div[1]/div[2]/div[3]/div/div[4]/div[1]/div/div[1]')\n",
    "    price =browser.find_element_by_class_name('_1vC4OE._3qQ9m1')\n",
    "    price = price.text[1:]\n",
    "    price = price_in_int(price)\n",
    "    track = np.load('data.npy',allow_pickle='TRUE').item()\n",
    "    previous_price=999999999\n",
    "    if website in track.keys():\n",
    "        previous_price = track[website]\n",
    "    else:\n",
    "        track[website]= price\n",
    "    if(previous_price>price):\n",
    "        print('Whow! There is a price drop!! from '+str(previous_price)+' to '+str(price))\n",
    "        n.show_toast(\"There is a price drop!\",icon='icon.ico',duration=12)\n",
    "    elif(previous_price==price):\n",
    "              print('The price is still the same')\n",
    "    else:\n",
    "              print('Price increase')\n",
    "    np.save('data.npy',track)\n",
    "    browser.quit()\n",
    "    time.sleep(interval)\n",
    "    execute(website)\n",
    "    \n",
    "        \n",
    "    \n",
    "    \n",
    "def price_in_int(price):\n",
    "    n=''\n",
    "    for i in price:\n",
    "        if i.isdigit():\n",
    "            n+=i\n",
    "    return (int(n))"
   ]
  },
  {
   "cell_type": "code",
   "execution_count": null,
   "metadata": {
    "scrolled": false
   },
   "outputs": [],
   "source": [
    "def checker():\n",
    "    try:\n",
    "        inp = input('Please copy paste the web address here: ')\n",
    "        print('The default checking interval is 60min if you want to change input time in minutes below or just hit ENTER')\n",
    "        interval = (input())\n",
    "        time = 3600\n",
    "        if(interval!=''):\n",
    "            time=int(interval)*60\n",
    "        execute(inp,time)\n",
    "    except:\n",
    "        print('OOOPS! looks like you entered something wrong... try again or contact the developer.')\n"
   ]
  },
  {
   "cell_type": "code",
   "execution_count": null,
   "metadata": {},
   "outputs": [],
   "source": [
    "checker()"
   ]
  },
  {
   "cell_type": "code",
   "execution_count": null,
   "metadata": {},
   "outputs": [],
   "source": []
  },
  {
   "cell_type": "code",
   "execution_count": null,
   "metadata": {},
   "outputs": [],
   "source": []
  },
  {
   "cell_type": "code",
   "execution_count": null,
   "metadata": {},
   "outputs": [],
   "source": []
  },
  {
   "cell_type": "code",
   "execution_count": null,
   "metadata": {},
   "outputs": [],
   "source": []
  },
  {
   "cell_type": "code",
   "execution_count": null,
   "metadata": {},
   "outputs": [],
   "source": []
  },
  {
   "cell_type": "code",
   "execution_count": null,
   "metadata": {},
   "outputs": [],
   "source": []
  },
  {
   "cell_type": "code",
   "execution_count": null,
   "metadata": {},
   "outputs": [],
   "source": []
  },
  {
   "cell_type": "code",
   "execution_count": null,
   "metadata": {},
   "outputs": [],
   "source": []
  }
 ],
 "metadata": {
  "kernelspec": {
   "display_name": "Python 3",
   "language": "python",
   "name": "python3"
  },
  "language_info": {
   "codemirror_mode": {
    "name": "ipython",
    "version": 3
   },
   "file_extension": ".py",
   "mimetype": "text/x-python",
   "name": "python",
   "nbconvert_exporter": "python",
   "pygments_lexer": "ipython3",
   "version": "3.7.3"
  }
 },
 "nbformat": 4,
 "nbformat_minor": 2
}
